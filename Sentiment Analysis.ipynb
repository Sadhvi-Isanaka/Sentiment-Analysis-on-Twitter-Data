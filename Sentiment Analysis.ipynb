{
 "cells": [
  {
   "cell_type": "markdown",
   "metadata": {},
   "source": [
    "# Opening tweet_file, positive_file and negative_file"
   ]
  },
  {
   "cell_type": "code",
   "execution_count": 137,
   "metadata": {},
   "outputs": [],
   "source": [
    "tweet_file = open(\"cryptocurrency.txt\",encoding = \"utf8\").read()"
   ]
  },
  {
   "cell_type": "code",
   "execution_count": 118,
   "metadata": {},
   "outputs": [],
   "source": [
    "positive_file = open(\"positive.txt\").read()"
   ]
  },
  {
   "cell_type": "code",
   "execution_count": 119,
   "metadata": {},
   "outputs": [],
   "source": [
    "negative_file = open(\"negative.txt\").read()"
   ]
  },
  {
   "cell_type": "markdown",
   "metadata": {},
   "source": [
    "# Splitting positive, negative and tweet files in to lists"
   ]
  },
  {
   "cell_type": "code",
   "execution_count": 120,
   "metadata": {},
   "outputs": [],
   "source": [
    "positive_list = positive_file.split()"
   ]
  },
  {
   "cell_type": "code",
   "execution_count": 121,
   "metadata": {},
   "outputs": [],
   "source": [
    "negative_list = negative_file.split()"
   ]
  },
  {
   "cell_type": "code",
   "execution_count": null,
   "metadata": {},
   "outputs": [],
   "source": [
    "tweet_lower = tweet_file.lower() # converting data to lower case\n",
    "tweet_list = tweet_lower.split() # splitting the file into words\n",
    "print(tweet_list)"
   ]
  },
  {
   "cell_type": "markdown",
   "metadata": {},
   "source": [
    "# Cleaning tweets data file"
   ]
  },
  {
   "cell_type": "code",
   "execution_count": null,
   "metadata": {},
   "outputs": [],
   "source": [
    "import string\n",
    "table = str.maketrans('','',string.punctuation)\n",
    "tweet_processed1 = [w.translate(table) for w in tweet_list] # removing punctuation\n",
    "tweet_processed2 = [word for word in tweet_processed1 if word.isalpha()] # removing non alphabetic words\n",
    "print(tweet_processed2)"
   ]
  },
  {
   "cell_type": "markdown",
   "metadata": {},
   "source": [
    "# Sentiment Analysis"
   ]
  },
  {
   "cell_type": "markdown",
   "metadata": {},
   "source": [
    "Method: Counted no of positive/negative words by assigning +1 for every positive word and -1 for every negative word. Finally added up the positive word count and negative word count. If the sum is < 0, then negative words are dominating so it results in negative sentiment or if sum > 0, it is positive sentiment or else if sum = 0, it is a neutral sentiment.\n",
    "\n",
    "Calculated percentage of positive/negative words to see how strong/week the sentiment is."
   ]
  },
  {
   "cell_type": "code",
   "execution_count": 145,
   "metadata": {},
   "outputs": [
    {
     "name": "stdout",
     "output_type": "stream",
     "text": [
      "Positive_Word_Count: 1518 Negative_Word_Count: -261\n",
      "It is a Positive Sentiment by: 85.32883642495784 %\n"
     ]
    }
   ],
   "source": [
    "positive_counter = 0\n",
    "negative_counter = 0\n",
    "\n",
    "for tweet in tweet_processed2:\n",
    "        if tweet in positive_list: # counting number of positive words\n",
    "            positive_counter += 1\n",
    "        elif tweet in negative_list: # counting number of negative words\n",
    "            negative_counter -= 1\n",
    "print(\"Positive_Word_Count:\", positive_counter, \"Negative_Word_Count:\", negative_counter)\n",
    "\n",
    "# adding 1s and -1s for corresponding positive and negative words\n",
    "sum1 = positive_counter + negative_counter \n",
    "\n",
    "#calculating percentage to see how strong/week the sentiment is \n",
    "positive_percentage = positive_counter/(positive_counter+abs(negative_counter))*100\n",
    "negative_percentage = negative_counter/(positive_counter+abs(negative_counter))*100\n",
    "\n",
    "# checking which sentiment is dominating\n",
    "if sum1 > 0:\n",
    "    print(\"It is a Positive Sentiment by:\", positive_percentage, \"%\" )\n",
    "elif sum1 < 0:\n",
    "    print(\"It is a Negative Sentiment by :\", negative_percentage, \"%\")\n",
    "else:\n",
    "    print(\"It is a Neutral Sentiment\")\n",
    "          \n",
    "    \n",
    "    "
   ]
  }
 ],
 "metadata": {
  "kernelspec": {
   "display_name": "Python 3",
   "language": "python",
   "name": "python3"
  },
  "language_info": {
   "codemirror_mode": {
    "name": "ipython",
    "version": 3
   },
   "file_extension": ".py",
   "mimetype": "text/x-python",
   "name": "python",
   "nbconvert_exporter": "python",
   "pygments_lexer": "ipython3",
   "version": "3.6.5"
  }
 },
 "nbformat": 4,
 "nbformat_minor": 2
}
